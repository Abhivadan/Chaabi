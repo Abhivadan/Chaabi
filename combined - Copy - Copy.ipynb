{
 "cells": [
  {
   "cell_type": "code",
   "execution_count": 1,
   "id": "a75b1247",
   "metadata": {},
   "outputs": [],
   "source": [
    "from qdrant_client import QdrantClient\n",
    "from qdrant_client.http import models\n",
    "from qdrant_client.http.models import CollectionStatus"
   ]
  },
  {
   "cell_type": "code",
   "execution_count": 2,
   "id": "e814c1a4",
   "metadata": {},
   "outputs": [
    {
     "data": {
      "text/plain": [
       "<qdrant_client.qdrant_client.QdrantClient at 0x18d94c88820>"
      ]
     },
     "execution_count": 2,
     "metadata": {},
     "output_type": "execute_result"
    }
   ],
   "source": [
    "client = QdrantClient(host=\"localhost\", port=6333)\n",
    "client"
   ]
  },
  {
   "cell_type": "code",
   "execution_count": 3,
   "id": "1db8fb44",
   "metadata": {},
   "outputs": [],
   "source": [
    "import numpy as np\n",
    "\n",
    "# Load embeddings\n",
    "embeddings = np.load('embeddings_combined1.npy')"
   ]
  },
  {
   "cell_type": "code",
   "execution_count": 4,
   "id": "26e2df73",
   "metadata": {},
   "outputs": [
    {
     "name": "stdout",
     "output_type": "stream",
     "text": [
      "Data type: float64\n",
      "First two embeddings: [[-0.36123669  0.6647532  -0.17255768 ... -0.56919503 -0.24727423\n",
      "   0.08984298]\n",
      " [-0.00590212  1.42034149  0.1689119  ... -0.07028337 -0.10406235\n",
      "   0.04801601]]\n"
     ]
    }
   ],
   "source": [
    "import numpy as np\n",
    "\n",
    "# Assuming you have already loaded your embeddings from 'embeddings.npy'\n",
    "embeddings = np.load('embeddings_combined1.npy')\n",
    "\n",
    "# Convert the data type of embeddings to float64\n",
    "embeddings_float64 = embeddings.astype(np.float64)\n",
    "\n",
    "# Optionally, you can save the converted embeddings back to a file\n",
    "np.save('embeddings_float641.npy', embeddings_float64)\n",
    "\n",
    "# To verify, you can check the dtype and values of the first few embeddings\n",
    "print(\"Data type:\", embeddings_float64.dtype)\n",
    "print(\"First two embeddings:\", embeddings_float64[:2])\n"
   ]
  },
  {
   "cell_type": "code",
   "execution_count": 5,
   "id": "4c823e4c",
   "metadata": {},
   "outputs": [
    {
     "name": "stdout",
     "output_type": "stream",
     "text": [
      "768\n"
     ]
    }
   ],
   "source": [
    "embeddings = np.load('embeddings_float641.npy')\n",
    "print(len(embeddings[1]))\n",
    "#embeddings[1]"
   ]
  },
  {
   "cell_type": "code",
   "execution_count": 6,
   "id": "ab594e07",
   "metadata": {},
   "outputs": [
    {
     "data": {
      "text/plain": [
       "[27543, 27544, 27545, 27546, 27547, 27548, 27549, 27550, 27551, 27552]"
      ]
     },
     "execution_count": 6,
     "metadata": {},
     "output_type": "execute_result"
    }
   ],
   "source": [
    "index = list(range(len(embeddings)))\n",
    "index[-10:]"
   ]
  },
  {
   "cell_type": "code",
   "execution_count": 7,
   "id": "2ecae1b9",
   "metadata": {},
   "outputs": [
    {
     "data": {
      "text/plain": [
       "True"
      ]
     },
     "execution_count": 7,
     "metadata": {},
     "output_type": "execute_result"
    }
   ],
   "source": [
    "from qdrant_client import QdrantClient\n",
    "from qdrant_client.http.models import CollectionConfig, Distance, VectorParams\n",
    "\n",
    "client = QdrantClient(host='localhost', port=6333)\n",
    "\n",
    "client.recreate_collection(\n",
    "    collection_name=\"combined_collection1\",\n",
    "    vectors_config=VectorParams(size=768, distance=Distance.COSINE)\n",
    ")"
   ]
  },
  {
   "cell_type": "code",
   "execution_count": 8,
   "id": "73738c13",
   "metadata": {},
   "outputs": [],
   "source": [
    "my_collection = \"combined_collection1\"\n",
    "batch_size = 1000  # You can adjust this size based on your system's capability\n",
    "num_batches = len(embeddings) // batch_size + (1 if len(embeddings) % batch_size else 0)\n",
    "\n",
    "for batch_num in range(num_batches):\n",
    "    start_index = batch_num * batch_size\n",
    "    end_index = min(start_index + batch_size, len(embeddings))\n",
    "    batch_embeddings = embeddings[start_index:end_index]\n",
    "\n",
    "    # Create a list of IDs for the current batch\n",
    "    batch_ids = list(range(start_index, end_index))\n",
    "\n",
    "    # Upload the batch\n",
    "    client.upsert(\n",
    "        collection_name=my_collection,\n",
    "        points=models.Batch(\n",
    "            ids=batch_ids,\n",
    "            vectors=batch_embeddings.tolist()\n",
    "        )\n",
    "    )"
   ]
  },
  {
   "cell_type": "code",
   "execution_count": 9,
   "id": "d121f1d9",
   "metadata": {},
   "outputs": [
    {
     "name": "stdout",
     "output_type": "stream",
     "text": [
      "ID: 768, Vector: [-0.06356667, 0.03297227, -0.002508327, -0.008032285, 0.0024353561, -0.08241756, 0.041522555, -0.02142113, 0.03195651, -0.012070604, 0.045497663, 0.00843973, 0.034037717, 0.036957674, -0.007306505, 0.048293166, -0.016281737, -0.0054817568, 0.022272287, -0.014114783, -0.009133766, -0.07734295, 0.046993423, 0.0052702017, 0.06294905, 0.061794065, -0.018073754, 0.043974087, -0.011241537, 0.01613725, -0.003028938, 0.012623817, -0.005756398, -0.019823324, 0.038137287, 0.08299642, -0.0100848405, 0.031896304, 0.00069233874, -0.04941294, -0.0055652424, -0.053654518, 0.054549124, -0.020243853, -0.05719094, -0.04315307, -0.044521876, 0.028169166, 0.03911142, -0.047430903, 0.023562033, -0.009110954, 0.06971925, -0.019571858, -0.046363935, 0.04604607, -0.032245338, -0.01486379, -0.029707693, -0.047219984, -0.04880291, 0.004384091, -0.02645209, 0.019878317, 0.0037926573, 0.011795709, 0.02326741, 0.0124156345, -0.02681511, -0.0019711957, -0.018403461, -0.033118125, -0.0042509437, -0.019936057, -0.028891457, 0.010333826, -0.017788386, -0.020414758, 0.046669267, 0.053664118, -0.04380103, -0.035077695, -0.023957124, 0.04563096, 0.019978438, 0.049977932, 0.030029982, 0.01277798, -0.04312476, 0.014146195, 0.044837747, -0.028079402, 0.08788925, -0.035156127, -0.02546346, -0.030304316, 0.037172403, -0.058860373, -0.03520778, -0.025798364, 0.007913706, -0.0054578423, -0.00510863, 0.046529498, -0.012128995, 0.034591235, -0.000533948, -0.050392117, -0.015792508, 0.051473144, 0.060849663, 0.035178464, 0.010323595, 0.030924225, -0.028332172, -0.023137186, -0.08427987, 0.05216549, -0.0010355365, 0.027349757, 0.026333038, -0.037593022, 0.022440882, 0.0031154419, 0.023206018, 0.0076867756, -0.008132713, 0.07631018, -0.04837455, 0.03386991, 0.009305226, 0.018385788, 0.03317035, -0.048777197, -0.036287114, 0.054294523, 0.01419792, -0.04417111, 0.035189345, 0.00782066, -0.034982238, -0.022162288, 0.075947344, -0.075643145, 0.021820484, 0.027883237, -0.018072383, -0.028449275, 0.032395728, -0.042295035, 0.013625658, 0.005485523, -0.07961634, -0.016768472, -0.015841499, -0.010926898, -0.079052836, 0.010114672, 0.015484578, -0.02239328, -0.041555244, 0.006952807, 0.022851018, 0.04819845, -0.017618788, -0.019264344, 0.07340501, 0.062026396, -0.010005797, 0.025711814, 0.019478673, 0.011004129, 0.07303039, 0.022908043, 0.0316195, 0.0071308943, 0.009760953, 0.008136028, -0.011218436, -0.008903724, -0.010721583, 0.0673627, -0.034361903, 0.029686641, 0.020659905, -0.024371639, 0.02802832, 0.007256757, 0.02774892, 0.03353601, -0.005562507, -0.009632401, -0.031275846, -0.0024151227, -0.01143223, 0.08238286, -0.017083498, 0.045003016, -0.046382204, -0.021254003, 0.007867848, 0.06923092, -0.023046108, -0.024147063, -0.11503744, 0.0010631259, 0.029513462, -0.013091391, -0.0659635, -0.027713781, -0.06951797, 0.024390303, 0.0651693, -0.01572749, 0.007926301, 0.0017488234, -0.0024854273, 0.010325015, 0.021967305, 0.009088159, -0.03504472, 0.026762174, -0.056567345, 0.03886669, 0.00284461, 0.0013634255, 0.02227349, -0.026820516, -0.04190022, 0.06722051, 0.0138866985, 0.005558817, -0.029272703, -0.026344202, -0.0012785869, 0.035725392, -0.06454471, 0.036421124, 0.12986147, -0.0225576, -0.0013141498, 0.034402274, -0.03713418, 0.050278258, -0.024432125, -0.008941088, -0.027819408, -0.02384627, -0.008954147, -0.012210951, -0.047851626, 0.020915117, -0.0105535425, -0.038745325, 0.052917805, -0.003537414, -0.074120484, 0.05730271, -0.005978489, 0.04286721, -0.0088881105, -0.014845039, 0.0012427913, -0.0003935554, 0.014939609, 0.043240886, -0.04106365, 0.03925593, -0.014213364, 0.009344432, -0.06785695, -0.028816301, 0.020178854, 0.041734543, -0.010700522, -0.05202284, 0.000884785, 0.0039286953, -0.0055294097, -0.022212693, 0.00085442606, 0.063810915, -0.09412734, -0.01339841, -0.04995881, 0.030608976, 0.023947394, -0.011009654, 0.005319055, -0.032753248, 0.0126239285, -0.032715295, 0.008907536, -0.038575534, 0.028901717, -0.037479714, 0.032671552, 0.0031047838, 0.013097779, 0.0040286817, -0.009342124, -0.033231072, -0.032354563, 0.023322297, -0.017010987, -0.019044511, 0.015345031, -0.013467214, 0.040421516, -0.022283478, -0.024676267, 0.015754864, -0.005856634, 0.047252607, 0.016177746, 0.0037502798, -0.0794271, 0.092532545, 0.038027696, 0.0038202705, -0.0076049063, -0.030607644, 0.023225093, 0.037692476, 0.051344417, -0.07345963, -0.0101034595, 0.029208673, -0.0117659625, 0.040124364, 0.030550538, 0.013334756, 0.051692605, 0.051946063, 0.0025455037, 0.01819661, -0.08379086, -0.011454057, -0.0138596045, -0.0027214927, 0.073184624, -0.011695651, 0.013440267, -0.027519284, -0.024483608, -0.005219182, -0.004553194, 0.03436944, -0.036722194, -0.019976456, 0.05160516, 0.012521225, 0.044790354, -0.015035775, 0.028905217, 0.0016770315, 0.0077979057, 0.034328405, -0.035653424, -0.020669175, -0.02095317, -0.010174175, 0.007056554, 0.028417544, 0.0038392616, -0.007229569, -0.014109783, -0.080095924, 0.0024249519, -0.0060571684, -0.006231516, 0.060696844, -0.0149019165, 0.039895043, 0.002008148, -0.032845117, -0.0683354, -0.0040466436, 0.008251368, -0.0068807392, -0.012063594, -0.021239618, 0.005206511, -0.056191355, -0.03502367, 0.03299027, 0.0099160625, -0.00762846, -0.02654127, -0.031640455, 0.030720185, 0.06354858, 0.024387758, -0.015216089, 0.0072532133, -0.03395582, 0.023424543, -0.00060134416, -0.0010571678, 0.015385545, -0.031465888, 0.02824298, 0.019285414, -0.020537632, 0.029333502, 0.010585272, 0.023181017, -0.06964868, 0.0013033004, 0.024080273, 0.041411407, -0.021982409, 0.036329128, 0.02191862, -0.030244546, -0.0006827992, 0.041255284, -0.08474115, -0.07732738, 0.017071458, 0.0049945433, 0.042840637, 0.03832757, 0.012656065, 0.032587443, -0.0033310028, 0.031094804, -0.0395017, 0.045496084, 0.05545275, 0.031458013, 0.0062465826, -0.029754646, -0.0077713924, 0.049486194, 0.018195484, -0.004457448, -0.05472144, 0.093348034, -0.0886836, -0.031220613, -0.024809185, 0.053588748, 0.0051111965, -0.008346288, -0.024562836, -0.04548266, 0.043120325, -0.0021463756, 0.0052802325, 0.017400451, -0.0322727, 0.05804838, -0.010059254, 0.033195652, -0.022823777, -0.035704788, 0.03953218, -0.057065926, -0.010018666, -0.026127834, -0.037229486, 0.017850911, -0.015700215, 0.03731665, 0.033053264, 0.0010396629, -0.009328609, 0.003987566, -0.012694399, 0.016292911, 0.005783088, 0.000506412, 0.09198434, 0.018655788, -0.0605769, -0.080806114, 0.07518713, 0.049181864, 0.049266163, -0.074646585, -0.007772322, 0.008556596, 0.0275554, -0.008982073, 0.06860212, 0.016091458, 0.028924113, -0.045245342, -0.029498894, -0.054493256, 0.005069953, -0.0055971825, -0.026027191, 0.0010189534, -0.06439942, -0.019408027, 0.0033670636, 0.07583144, 0.0047427085, 0.0063056387, -0.0040013567, 0.0262228, -0.04965533, 0.077508785, -0.02636758, -0.015397148, -0.06932783, -0.005075867, -0.020945914, -0.04532442, 0.018812995, 0.0028890837, -0.0419142, -0.06552928, 0.014084839, -0.039327677, 0.03301925, -0.025963996, -0.043542165, 0.024606558, -0.027303513, 0.0075863968, -0.025597036, -0.015162818, -0.009641681, 0.067622595, -0.04608011, -0.048773587, -0.0680253, -0.008700373, -0.0298716, 0.019196864, -0.051207867, -0.0016924753, 0.055596508, -0.11695384, -0.027667334, -0.07552522, 0.018808456, 0.040055864, 0.0121732615, -0.009070463, 0.0079977885, -0.042130686, -0.005593548, 0.025698341, -0.009652806, -0.046731286, 0.008829512, -0.050571904, -0.047910288, 0.024445763, 0.040837813, 0.00018168501, 0.017286967, -0.03568058, -0.00085255905, -0.016584096, 0.03573405, 0.035327315, 0.03358811, -0.022434717, -0.059458453, 0.01897356, -0.014416486, -0.027909067, -0.031698443, -0.042627107, 0.0145640895, 0.020019542, 0.007285724, 0.04971912, 0.037021838, -0.06253262, -0.036882177, -0.01500033, -0.05598472, -0.017290022, 0.0114593655, 0.02026265, 0.013701895, 0.00015317317, 0.029337324, -0.06254152, -0.032037746, -0.010432158, -0.020726103, 0.0029036177, -0.037959933, -0.047826283, -0.010579937, 0.023331443, 0.003386164, -0.070113294, 0.014376915, 0.03219662, 0.05229459, -0.0063914726, 0.0058041904, 0.0006506244, -0.033542298, -0.0181156, 0.008530387, -0.07165198, 0.0025652521, -0.011141212, -0.05414289, -0.009281622, 0.044069923, 0.056935593, -0.006835084, -0.0074557574, 0.028758489, -0.014169473, -0.046728898, 0.007859281, -0.022396598, -0.021154538, -0.0077145826, 0.055032153, 0.034446556, -0.019260311, -0.010490277, 0.055596903, -0.02863918, 0.002702416, 0.03154783, 0.042529058, -0.010477795, 0.02651617, -0.012093485, 0.015431326, 0.019923547, -0.03231448, -0.011519927, 0.006448627, 0.035777345, 0.022542307, 0.04848774, -0.027655507, 0.04905071, -0.039155826, 0.0078018527, -0.008397899, 0.019198341, -0.024506401, 0.014382212, 0.05374871, 0.0130583495, 0.053049512, 0.035172604, 0.023072682, -0.0041748527, -0.020473046, -0.03257125, -0.0022355733, -0.055453625, 0.027757749, 0.030288339, 0.022043096, 0.031321272, 0.0026992203, 0.0016366538, 0.082344875, -0.029476982, -0.01198303, 0.04565365, -0.02580366, -0.026903933, 0.013858857, 0.014984757, -0.004763145, 0.0036462434, 0.028336033, -0.058377918, -0.021051176, 0.05735095, -0.053110033, -0.031418867, -0.020603843, -0.042436067, 0.044280186, -0.0769636, -0.021490438, -0.008107851, 0.002293598, 0.021678539, 0.0388016, 0.042630497, 0.0042976146, 0.010258858, 0.027239947, -0.012877523, -0.020356912, -0.044563394, -0.026325362, 0.00742124, 0.027318897, 0.05979544, -0.07233635, 0.060813144, -0.010046389, -0.028140705, 0.009745438, 0.05182174, -0.04844435, -0.033527657, -0.041291963, -0.018678539, 0.025170559, 0.06483615, -0.01671596, 0.03411506, -0.059042547, 0.039349925, 0.009674277, -0.02502888, -0.05879039, 0.016568571, 0.0033392427, -0.03732276, -0.018143537, -0.032333955, -0.025061995, -0.008550677, 0.042286165, 0.029674945, -0.040798556, 0.009178021, 0.02782142, -0.040014897, -0.002160972, 0.002196041, 0.014701996, 0.0108197015, 0.033925544, -0.050731085, -0.019087577, 0.00019704798, -0.019733226, 0.005672119, -0.023172624, -0.04086612, -0.028322397, 0.033744268, -0.05528448, 0.001769529, -0.00918908, -0.0024615896, 0.020590967, -0.050523378, -0.00836775, 0.015213175, -0.021720286, 0.024345668, -0.011849137, 0.015472268, -0.029109478, -0.10876554, -0.05926303, -0.11311774, 0.010506498, -0.05418186, 0.007946877, -0.025668165, -0.013594465, -0.012486908]\n"
     ]
    }
   ],
   "source": [
    "# Fetch the record with ID 100\n",
    "response = client.retrieve(\n",
    "    collection_name=my_collection,\n",
    "    ids=[768],\n",
    "    with_vectors=True  # Retrieve the vectors as well\n",
    ")\n",
    "\n",
    "# Extract records from the response\n",
    "records = response\n",
    "\n",
    "# Print the details of the retrieved record\n",
    "for record in records:\n",
    "    print(f\"ID: {record.id}, Vector: {record.vector}\")"
   ]
  },
  {
   "cell_type": "code",
   "execution_count": 10,
   "id": "b90a4ff2",
   "metadata": {},
   "outputs": [
    {
     "name": "stdout",
     "output_type": "stream",
     "text": [
      "Defaulting to user installation because normal site-packages is not writeable\n",
      "Requirement already satisfied: sentence_transformers in c:\\users\\admin\\appdata\\roaming\\python\\python39\\site-packages (2.2.2)\n",
      "Requirement already satisfied: sentencepiece in c:\\users\\admin\\appdata\\roaming\\python\\python39\\site-packages (from sentence_transformers) (0.1.99)\n",
      "Requirement already satisfied: transformers<5.0.0,>=4.6.0 in c:\\users\\admin\\appdata\\roaming\\python\\python39\\site-packages (from sentence_transformers) (4.35.2)\n",
      "Requirement already satisfied: scikit-learn in c:\\programdata\\anaconda3\\lib\\site-packages (from sentence_transformers) (1.0.2)\n",
      "Requirement already satisfied: numpy in c:\\users\\admin\\appdata\\roaming\\python\\python39\\site-packages (from sentence_transformers) (1.24.3)\n",
      "Requirement already satisfied: nltk in c:\\programdata\\anaconda3\\lib\\site-packages (from sentence_transformers) (3.7)\n",
      "Requirement already satisfied: torchvision in c:\\users\\admin\\appdata\\roaming\\python\\python39\\site-packages (from sentence_transformers) (0.16.1)\n",
      "Requirement already satisfied: tqdm in c:\\programdata\\anaconda3\\lib\\site-packages (from sentence_transformers) (4.64.1)\n",
      "Requirement already satisfied: huggingface-hub>=0.4.0 in c:\\users\\admin\\appdata\\roaming\\python\\python39\\site-packages (from sentence_transformers) (0.19.4)\n",
      "Requirement already satisfied: scipy in c:\\programdata\\anaconda3\\lib\\site-packages (from sentence_transformers) (1.9.1)\n",
      "Requirement already satisfied: torch>=1.6.0 in c:\\users\\admin\\appdata\\roaming\\python\\python39\\site-packages (from sentence_transformers) (2.1.1)\n",
      "Requirement already satisfied: fsspec>=2023.5.0 in c:\\users\\admin\\appdata\\roaming\\python\\python39\\site-packages (from huggingface-hub>=0.4.0->sentence_transformers) (2023.10.0)\n",
      "Requirement already satisfied: requests in c:\\programdata\\anaconda3\\lib\\site-packages (from huggingface-hub>=0.4.0->sentence_transformers) (2.28.1)\n",
      "Requirement already satisfied: filelock in c:\\programdata\\anaconda3\\lib\\site-packages (from huggingface-hub>=0.4.0->sentence_transformers) (3.6.0)\n",
      "Requirement already satisfied: pyyaml>=5.1 in c:\\programdata\\anaconda3\\lib\\site-packages (from huggingface-hub>=0.4.0->sentence_transformers) (6.0)\n",
      "Requirement already satisfied: typing-extensions>=3.7.4.3 in c:\\users\\admin\\appdata\\roaming\\python\\python39\\site-packages (from huggingface-hub>=0.4.0->sentence_transformers) (4.8.0)\n",
      "Requirement already satisfied: packaging>=20.9 in c:\\programdata\\anaconda3\\lib\\site-packages (from huggingface-hub>=0.4.0->sentence_transformers) (21.3)\n",
      "Requirement already satisfied: networkx in c:\\programdata\\anaconda3\\lib\\site-packages (from torch>=1.6.0->sentence_transformers) (2.8.4)\n",
      "Requirement already satisfied: jinja2 in c:\\programdata\\anaconda3\\lib\\site-packages (from torch>=1.6.0->sentence_transformers) (2.11.3)\n",
      "Requirement already satisfied: sympy in c:\\programdata\\anaconda3\\lib\\site-packages (from torch>=1.6.0->sentence_transformers) (1.10.1)\n",
      "Requirement already satisfied: colorama in c:\\programdata\\anaconda3\\lib\\site-packages (from tqdm->sentence_transformers) (0.4.5)\n",
      "Requirement already satisfied: safetensors>=0.3.1 in c:\\users\\admin\\appdata\\roaming\\python\\python39\\site-packages (from transformers<5.0.0,>=4.6.0->sentence_transformers) (0.4.0)\n",
      "Requirement already satisfied: regex!=2019.12.17 in c:\\programdata\\anaconda3\\lib\\site-packages (from transformers<5.0.0,>=4.6.0->sentence_transformers) (2022.7.9)\n",
      "Requirement already satisfied: tokenizers<0.19,>=0.14 in c:\\users\\admin\\appdata\\roaming\\python\\python39\\site-packages (from transformers<5.0.0,>=4.6.0->sentence_transformers) (0.15.0)\n",
      "Requirement already satisfied: click in c:\\programdata\\anaconda3\\lib\\site-packages (from nltk->sentence_transformers) (8.0.4)\n",
      "Requirement already satisfied: joblib in c:\\programdata\\anaconda3\\lib\\site-packages (from nltk->sentence_transformers) (1.1.0)\n",
      "Requirement already satisfied: threadpoolctl>=2.0.0 in c:\\programdata\\anaconda3\\lib\\site-packages (from scikit-learn->sentence_transformers) (2.2.0)\n",
      "Requirement already satisfied: pillow!=8.3.*,>=5.3.0 in c:\\programdata\\anaconda3\\lib\\site-packages (from torchvision->sentence_transformers) (9.2.0)\n",
      "Requirement already satisfied: pyparsing!=3.0.5,>=2.0.2 in c:\\programdata\\anaconda3\\lib\\site-packages (from packaging>=20.9->huggingface-hub>=0.4.0->sentence_transformers) (3.0.9)\n",
      "Requirement already satisfied: MarkupSafe>=0.23 in c:\\programdata\\anaconda3\\lib\\site-packages (from jinja2->torch>=1.6.0->sentence_transformers) (2.0.1)\n",
      "Requirement already satisfied: urllib3<1.27,>=1.21.1 in c:\\users\\admin\\appdata\\roaming\\python\\python39\\site-packages (from requests->huggingface-hub>=0.4.0->sentence_transformers) (1.26.18)\n",
      "Requirement already satisfied: certifi>=2017.4.17 in c:\\programdata\\anaconda3\\lib\\site-packages (from requests->huggingface-hub>=0.4.0->sentence_transformers) (2022.9.14)\n",
      "Requirement already satisfied: charset-normalizer<3,>=2 in c:\\programdata\\anaconda3\\lib\\site-packages (from requests->huggingface-hub>=0.4.0->sentence_transformers) (2.0.4)\n",
      "Requirement already satisfied: idna<4,>=2.5 in c:\\programdata\\anaconda3\\lib\\site-packages (from requests->huggingface-hub>=0.4.0->sentence_transformers) (3.3)\n",
      "Requirement already satisfied: mpmath>=0.19 in c:\\programdata\\anaconda3\\lib\\site-packages (from sympy->torch>=1.6.0->sentence_transformers) (1.2.1)\n",
      "Note: you may need to restart the kernel to use updated packages.\n"
     ]
    }
   ],
   "source": [
    "pip install sentence_transformers"
   ]
  },
  {
   "cell_type": "code",
   "execution_count": 11,
   "id": "43f8dc0a",
   "metadata": {},
   "outputs": [
    {
     "name": "stdout",
     "output_type": "stream",
     "text": [
      "ID: 13872, Score: 0.85485965\n",
      "ID: 25751, Score: 0.85057247\n",
      "ID: 27497, Score: 0.8378357\n",
      "ID: 11763, Score: 0.8321847\n",
      "ID: 8085, Score: 0.83204174\n",
      "ID: 11828, Score: 0.8318955\n",
      "ID: 2871, Score: 0.83033824\n",
      "ID: 16701, Score: 0.82868177\n",
      "ID: 9915, Score: 0.82634723\n",
      "ID: 18467, Score: 0.82564026\n"
     ]
    }
   ],
   "source": [
    "from sentence_transformers import SentenceTransformer\n",
    "from qdrant_client import QdrantClient\n",
    "\n",
    "# Initialize the Sentence Transformer model\n",
    "model = SentenceTransformer('bert-base-nli-mean-tokens')\n",
    "\n",
    "# Connect to Qdrant\n",
    "client = QdrantClient(host=\"localhost\", port=6333)  # Replace with your Qdrant host and port\n",
    "\n",
    "# Query sentence\n",
    "query_sentence = \"Vanilla Gold Ice Cream\"\n",
    "query_embedding = model.encode(query_sentence)\n",
    "\n",
    "# Perform the search\n",
    "search_results = client.search(\n",
    "    collection_name=my_collection,\n",
    "    query_vector=query_embedding.tolist(),\n",
    "    query_filter=None,  # You can add filters if needed\n",
    "    limit=10  # Number of top similar results\n",
    ")\n",
    "\n",
    "# Output the results\n",
    "# Adjust the way you access the results based on the actual structure of search_results\n",
    "# Here's an example assuming search_results is a list\n",
    "for hit in search_results:\n",
    "    print(f\"ID: {hit.id}, Score: {hit.score}\")\n"
   ]
  },
  {
   "cell_type": "code",
   "execution_count": null,
   "id": "a53f83ff",
   "metadata": {},
   "outputs": [
    {
     "name": "stderr",
     "output_type": "stream",
     "text": [
      "Special tokens have been added in the vocabulary, make sure the associated word embeddings are fine-tuned or trained.\n"
     ]
    }
   ],
   "source": [
    "from transformers import T5ForConditionalGeneration, T5Tokenizer\n",
    "import pandas as pd\n",
    "from sentence_transformers import SentenceTransformer\n",
    "from qdrant_client import QdrantClient\n",
    "\n",
    "# Load the CSV file\n",
    "df = pd.read_csv('bigBasketProducts.csv')\n",
    "\n",
    "# Initialize the Sentence Transformer and Qdrant Client\n",
    "model = SentenceTransformer('bert-base-nli-mean-tokens')\n",
    "client = QdrantClient(host=\"localhost\", port=6333)\n",
    "\n",
    "# Initialize the T5 model and tokenizer\n",
    "t5_model = T5ForConditionalGeneration.from_pretrained('t5-small')\n",
    "t5_tokenizer = T5Tokenizer.from_pretrained('t5-small')\n",
    "\n",
    "# Function to generate a response based on enriched product information using T5\n",
    "def generate_response(product_info):\n",
    "    enriched_description = f\"summarize: {product_info['brand']} {product_info['type']} in {product_info['category']}: {product_info['description']}\"\n",
    "    input_ids = t5_tokenizer.encode(enriched_description, return_tensors='pt')\n",
    "    output_ids = t5_model.generate(input_ids, max_length=100, num_beams=5, no_repeat_ngram_size=2, early_stopping=True)\n",
    "    return t5_tokenizer.decode(output_ids[0], skip_special_tokens=True)\n",
    "\n",
    "# Query the Qdrant database\n",
    "query_sentence = \"drinks for soft skin \"\n",
    "query_embedding = model.encode(query_sentence)\n",
    "search_results = client.search(collection_name=my_collection, query_vector=query_embedding.tolist(), limit=5)\n",
    "\n",
    "# Process the search results and generate responses\n",
    "for hit in search_results:\n",
    "    # Retrieve the enriched product information using the hit ID\n",
    "    product_info = df.loc[df['index'] == hit.id].iloc[0]\n",
    "    contextual_response = generate_response(product_info)\n",
    "    print(f\"ID: {hit.id}, Response: {contextual_response}\")\n"
   ]
  },
  {
   "cell_type": "code",
   "execution_count": null,
   "id": "14eb4117",
   "metadata": {},
   "outputs": [],
   "source": []
  },
  {
   "cell_type": "code",
   "execution_count": null,
   "id": "164ac6ec",
   "metadata": {},
   "outputs": [],
   "source": []
  }
 ],
 "metadata": {
  "kernelspec": {
   "display_name": "Python 3 (ipykernel)",
   "language": "python",
   "name": "python3"
  },
  "language_info": {
   "codemirror_mode": {
    "name": "ipython",
    "version": 3
   },
   "file_extension": ".py",
   "mimetype": "text/x-python",
   "name": "python",
   "nbconvert_exporter": "python",
   "pygments_lexer": "ipython3",
   "version": "3.9.13"
  }
 },
 "nbformat": 4,
 "nbformat_minor": 5
}
